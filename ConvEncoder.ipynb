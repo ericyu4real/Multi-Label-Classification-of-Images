{
 "cells": [
  {
   "cell_type": "code",
   "execution_count": 39,
   "metadata": {},
   "outputs": [
    {
     "name": "stdout",
     "output_type": "stream",
     "text": [
      "(27000, 56, 56)\n",
      "(3000, 56, 56)\n"
     ]
    }
   ],
   "source": [
    "# This Python 3 environment comes with many helpful analytics libraries installed\n",
    "# It is defined by the kaggle/python docker image: https://github.com/kaggle/docker-python\n",
    "# For example, here's several helpful packages to load in \n",
    "\n",
    "import numpy as np # linear algebra\n",
    "import pandas as pd # data processing, CSV file I/O (e.g. pd.read_csv)\n",
    "import matplotlib.pyplot as plt\n",
    "import pickle\n",
    "\n",
    "import torch\n",
    "import torch.nn as nn\n",
    "import torch.optim as optim\n",
    "from torchvision import transforms\n",
    "from torch.utils.data import Dataset\n",
    "from sklearn.metrics import accuracy_score\n",
    "from sklearn.preprocessing import OneHotEncoder\n",
    "# Any results you write to the current directory are saved as output.\n",
    "\n",
    "\n",
    "train_data = pd.read_pickle('images_l.pkl')\n",
    "train_labels = pd.read_pickle('labels_l.pkl')\n",
    "test_data = pd.read_pickle('images_test.pkl')\n",
    "unlabel = pd.read_pickle('images_ul.pkl')\n",
    "\n",
    "number_train_images = int(train_data.shape[0] * 0.9)\n",
    "\n",
    "X_train = train_data[:number_train_images]\n",
    "y_train = train_labels[:number_train_images]\n",
    "\n",
    "X_validation = train_data[number_train_images:]\n",
    "y_validation = train_labels[number_train_images:]\n",
    "\n",
    "train_unlabel = unlabel[:int(unlabel.shape[0] * 0.9)]\n",
    "validation_unlabel = unlabel[int(unlabel.shape[0] * 0.9):]\n",
    "print(train_unlabel.shape)\n",
    "print(validation_unlabel.shape)"
   ]
  },
  {
   "cell_type": "code",
   "execution_count": 73,
   "metadata": {},
   "outputs": [],
   "source": [
    "device = torch.device('cuda:0' if torch.cuda.is_available() else 'cpu')\n",
    "class MNIST_Dataset(Dataset):\n",
    "    \n",
    "    def __init__(self, X, y, transform = transforms.Compose(\n",
    "                     [\n",
    "                      transforms.ToTensor()])):\n",
    "            \n",
    "        self.transform = transform\n",
    "        # self.X = np.reshape(self.X, (len(self.X), 7, 7, 8))\n",
    "        self.X = X.astype('float32')\n",
    "        print(self.X.shape)\n",
    "        self.y = y\n",
    "        \n",
    "    @classmethod\n",
    "    def from_train(cls, file_path_images, file_path_labels):\n",
    "        train_images = pd.read_pickle(file_path_images)\n",
    "        train_labels = pd.read_csv(file_path_labels)\n",
    "        \n",
    "        return cls(X=train_images, y=torch.from_numpy(train_labels['Category'].values))\n",
    "        \n",
    "    @classmethod\n",
    "    def from_test(cls, file_path_images):\n",
    "        test_images = pd.read_pickle(file_path_images)\n",
    "        \n",
    "        return cls(X=test_images, y=None)\n",
    "    \n",
    "    def __len__(self):\n",
    "        return len(self.X)\n",
    "\n",
    "    def __getitem__(self, idx):\n",
    "        X = self.transform(self.X[idx])\n",
    "        # X = X.to(device)\n",
    "        if self.y is not None:\n",
    "            return X, self.y[idx]   #.to(device)\n",
    "        else:\n",
    "            return X"
   ]
  },
  {
   "cell_type": "code",
   "execution_count": 26,
   "metadata": {},
   "outputs": [
    {
     "name": "stdout",
     "output_type": "stream",
     "text": [
      "(27000, 56, 56)\n",
      "(27000, 36)\n",
      "(3000, 56, 56)\n",
      "(3000, 36)\n",
      "(15000, 56, 56)\n",
      "(27000, 56, 56)\n",
      "(3000, 56, 56)\n"
     ]
    }
   ],
   "source": [
    "train_data = pd.read_pickle('images_l.pkl')\n",
    "train_labels = pd.read_pickle('labels_l.pkl')\n",
    "test_data = pd.read_pickle('images_test.pkl')\n",
    "unlabel = pd.read_pickle('images_ul.pkl')\n",
    "\n",
    "number_train_images = int(train_data.shape[0] * 0.9)\n",
    "\n",
    "X_train = train_data[:number_train_images]\n",
    "y_train = train_labels[:number_train_images]\n",
    "print(X_train.shape)\n",
    "print(y_train.shape)\n",
    "\n",
    "X_validation = train_data[number_train_images:]\n",
    "y_validation = train_labels[number_train_images:]\n",
    "\n",
    "print(X_validation.shape)\n",
    "print(y_validation.shape)\n",
    "print(test_data.shape)\n",
    "\n",
    "train_unlabel = unlabel[:int(unlabel.shape[0] * 0.9)]\n",
    "validation_unlabel = unlabel[int(unlabel.shape[0] * 0.9):]\n",
    "print(train_unlabel.shape)\n",
    "print(validation_unlabel.shape)"
   ]
  },
  {
   "cell_type": "code",
   "execution_count": 49,
   "metadata": {},
   "outputs": [
    {
     "name": "stdout",
     "output_type": "stream",
     "text": [
      "(27000, 56, 56, 1)\n",
      "(3000, 56, 56, 1)\n",
      "(15000, 56, 56, 1)\n"
     ]
    }
   ],
   "source": [
    "batch_size = 32\n",
    "\n",
    "train_dataset = MNIST_Dataset(X_train, y_train)\n",
    "validation_dataset = MNIST_Dataset(X_validation, None)\n",
    "test_dataset = MNIST_Dataset.from_test('images_test.pkl')\n",
    "\n",
    "# unlabel_train_dataset = MNIST_Dataset(train_unlabel, train_unlabel)\n",
    "# unlabel_validation_dataset = MNIST_Dataset(validation_unlabel, validation_unlabel)\n",
    "\n",
    "# Loading\n",
    "train_loader = torch.utils.data.DataLoader(dataset=train_dataset,\n",
    "                                           batch_size=batch_size, \n",
    "                                           shuffle=True)\n",
    "\n",
    "validation_loader = torch.utils.data.DataLoader(dataset=validation_dataset,\n",
    "                                           batch_size=batch_size, \n",
    "                                           shuffle=False)\n",
    "\n",
    "# unlabel_train_loader = torch.utils.data.DataLoader(dataset=unlabel_train_dataset,\n",
    "#                                            batch_size=batch_size, \n",
    "#                                            shuffle=True)\n",
    "\n",
    "# unlabel_validation_loader = torch.utils.data.DataLoader(dataset=unlabel_validation_dataset,\n",
    "#                                            batch_size=batch_size, \n",
    "#                                            shuffle=True)\n",
    "\n",
    "test_loader = torch.utils.data.DataLoader(dataset=test_dataset,\n",
    "                                           batch_size=batch_size, \n",
    "                                           shuffle=False)"
   ]
  },
  {
   "cell_type": "markdown",
   "metadata": {},
   "source": [
    "## normalize unlabeled data"
   ]
  },
  {
   "cell_type": "code",
   "execution_count": 2,
   "metadata": {},
   "outputs": [
    {
     "name": "stdout",
     "output_type": "stream",
     "text": [
      "(27000, 56, 56, 1)\n",
      "(3000, 56, 56, 1)\n"
     ]
    }
   ],
   "source": [
    "X_train = X_train.astype('float32') / 255.\n",
    "X_validation = X_train.astype('float32') / 255.\n",
    "X_train = np.reshape(X_train, (len(X_train), 56, 56, 1))\n",
    "X_validation = np.reshape(X_validation, (len(X_validation), 56, 56, 1))\n",
    "\n",
    "train_unlabel = train_unlabel.astype('float32') / 255.\n",
    "validation_unlabel = validation_unlabel.astype('float32') / 255.\n",
    "train_unlabel = np.reshape(train_unlabel, (len(train_unlabel), 56, 56, 1))\n",
    "validation_unlabel = np.reshape(validation_unlabel, (len(validation_unlabel), 56, 56, 1))\n",
    "print(train_unlabel.shape)\n",
    "print(validation_unlabel.shape)"
   ]
  },
  {
   "cell_type": "code",
   "execution_count": 90,
   "metadata": {},
   "outputs": [
    {
     "name": "stdout",
     "output_type": "stream",
     "text": [
      "Model: \"model_17\"\n",
      "_________________________________________________________________\n",
      " Layer (type)                Output Shape              Param #   \n",
      "=================================================================\n",
      " input_5 (InputLayer)        [(None, 56, 56, 1)]       0         \n",
      "                                                                 \n",
      " conv2d_24 (Conv2D)          (None, 56, 56, 16)        160       \n",
      "                                                                 \n",
      " max_pooling2d_11 (MaxPoolin  (None, 28, 28, 16)       0         \n",
      " g2D)                                                            \n",
      "                                                                 \n",
      " conv2d_25 (Conv2D)          (None, 28, 28, 8)         1160      \n",
      "                                                                 \n",
      " conv2d_26 (Conv2D)          (None, 28, 28, 8)         584       \n",
      "                                                                 \n",
      " max_pooling2d_12 (MaxPoolin  (None, 14, 14, 8)        0         \n",
      " g2D)                                                            \n",
      "                                                                 \n",
      " conv2d_27 (Conv2D)          (None, 14, 14, 8)         584       \n",
      "                                                                 \n",
      " up_sampling2d_12 (UpSamplin  (None, 28, 28, 8)        0         \n",
      " g2D)                                                            \n",
      "                                                                 \n",
      " conv2d_28 (Conv2D)          (None, 28, 28, 8)         584       \n",
      "                                                                 \n",
      " up_sampling2d_13 (UpSamplin  (None, 56, 56, 8)        0         \n",
      " g2D)                                                            \n",
      "                                                                 \n",
      " conv2d_29 (Conv2D)          (None, 56, 56, 1)         73        \n",
      "                                                                 \n",
      "=================================================================\n",
      "Total params: 3,145\n",
      "Trainable params: 3,145\n",
      "Non-trainable params: 0\n",
      "_________________________________________________________________\n",
      "Epoch 1/2\n",
      "844/844 [==============================] - 79s 93ms/step - loss: -186.1933 - val_loss: -192.6630\n",
      "Epoch 2/2\n",
      "844/844 [==============================] - 74s 88ms/step - loss: -194.1095 - val_loss: -195.5107\n"
     ]
    },
    {
     "data": {
      "text/plain": [
       "<keras.callbacks.History at 0x7fac992a4c40>"
      ]
     },
     "execution_count": 90,
     "metadata": {},
     "output_type": "execute_result"
    }
   ],
   "source": [
    "import keras\n",
    "from keras import layers\n",
    "\n",
    "input_img = keras.Input(shape=(56, 56, 1))\n",
    "\n",
    "x = layers.Conv2D(16, (3, 3), activation='relu', padding='same')(input_img)        \n",
    "x = layers.MaxPooling2D((2, 2), padding='same')(x)\n",
    "x = layers.Conv2D(8, (3, 3), activation='relu', padding='same')(x)\n",
    "# x = layers.MaxPooling2D((2, 2), padding='same')(x)\n",
    "x = layers.Conv2D(8, (3, 3), activation='relu', padding='same')(x)\n",
    "encoded = layers.MaxPooling2D((2, 2), padding='same')(x)\n",
    "\n",
    "# at this point the representation is (7, 7, 8) i.e. 392-dimensional\n",
    "\n",
    "x = layers.Conv2D(8, (3, 3), activation='relu', padding='same')(encoded)\n",
    "x = layers.UpSampling2D((2, 2))(x)\n",
    "x = layers.Conv2D(8, (3, 3), activation='relu', padding='same')(x)\n",
    "x = layers.UpSampling2D((2, 2))(x)\n",
    "# x = layers.Conv2D(16, (3, 3), activation='relu')(x)\n",
    "# x = layers.UpSampling2D((2, 2))(x)\n",
    "decoded = layers.Conv2D(1, (3, 3), activation='sigmoid', padding='same')(x)\n",
    "\n",
    "autoencoder = keras.Model(input_img, decoded)\n",
    "autoencoder.compile(optimizer='adam', loss='binary_crossentropy')\n",
    "\n",
    "from keras.callbacks import TensorBoard\n",
    "autoencoder.summary()\n",
    "autoencoder.fit(X_train, X_train,\n",
    "                epochs=2,\n",
    "                batch_size=32,\n",
    "                shuffle=True,\n",
    "                validation_data=(validation_unlabel, validation_unlabel),\n",
    "                callbacks=[TensorBoard(log_dir='/tmp/autoencoder')])\n"
   ]
  },
  {
   "cell_type": "code",
   "execution_count": 106,
   "metadata": {},
   "outputs": [
    {
     "name": "stdout",
     "output_type": "stream",
     "text": [
      "(27000, 14, 14, 8) (27000, 56, 56)\n",
      "(27000, 14, 14, 8)\n"
     ]
    }
   ],
   "source": [
    "encoder = keras.Model(input_img, encoded)\n",
    "encoded_imgs = encoder.predict(X_train)\n",
    "print(encoded_imgs.shape, X_train.shape)\n",
    "batch_size = 32\n",
    "\n",
    "train_dataset = MNIST_Dataset(encoded_imgs, y_train)\n",
    "\n",
    "# Loading\n",
    "train_loader = torch.utils.data.DataLoader(dataset=train_dataset,\n",
    "                                           batch_size=batch_size, \n",
    "                                           shuffle=True)"
   ]
  },
  {
   "cell_type": "code",
   "execution_count": null,
   "metadata": {},
   "outputs": [],
   "source": [
    "encoder = keras.Model(input_img, encoded)\n",
    "encoded_imgs = encoder.predict(validation_unlabel)\n",
    "print(encoded_imgs.shape)\n",
    "\n",
    "n = 10\n",
    "plt.figure(figsize=(20, 8))\n",
    "for i in range(1, n + 1):\n",
    "    ax = plt.subplot(1, n, i)\n",
    "    plt.imshow(encoded_imgs[i].reshape((7, 7 * 8)).T)\n",
    "    plt.gray()\n",
    "    ax.get_xaxis().set_visible(False)\n",
    "    ax.get_yaxis().set_visible(False)\n",
    "plt.show()"
   ]
  },
  {
   "cell_type": "code",
   "execution_count": 104,
   "metadata": {},
   "outputs": [],
   "source": [
    "class ConvNet_4Layers(nn.Module):\n",
    "    def __init__(self, input_dim, output_dim, dropout):\n",
    "        super(ConvNet_4Layers, self).__init__()\n",
    "        self.layer1 = nn.Sequential(\n",
    "            nn.Conv2d(in_channels=8, out_channels=28, kernel_size=2),\n",
    "            nn.ReLU(),\n",
    "            nn.Conv2d(28, 28, 2),\n",
    "            nn.BatchNorm2d(28),\n",
    "            nn.ReLU(),\n",
    "            nn.MaxPool2d(2),\n",
    "            nn.Dropout(dropout))\n",
    "        self.layer2 = nn.Sequential(\n",
    "            nn.Conv2d(28, 56, 2),\n",
    "            nn.ReLU(),\n",
    "            nn.Conv2d(56, 56, 1),\n",
    "            nn.BatchNorm2d(56),\n",
    "            nn.ReLU(),\n",
    "            nn.MaxPool2d(2),\n",
    "            nn.Dropout(dropout))\n",
    "        self.layer3 = nn.Sequential(\n",
    "            nn.Conv2d(56, 112, 1),\n",
    "            nn.ReLU(),\n",
    "            nn.Conv2d(112, 112, 1),\n",
    "            nn.BatchNorm2d(112),\n",
    "            nn.ReLU(),\n",
    "            nn.MaxPool2d(2, stride=2),\n",
    "            nn.Dropout(dropout))\n",
    "        self.layer4 = nn.Sequential(\n",
    "            nn.Conv2d(112, 224, 1),\n",
    "            nn.ReLU(),\n",
    "            nn.Conv2d(224, 224, 1),\n",
    "            nn.BatchNorm2d(224),\n",
    "            nn.ReLU(),\n",
    "            # nn.MaxPool2d(2, stride=2),\n",
    "            nn.Dropout(dropout))\n",
    "        self.fc = nn.Linear(224, output_dim)\n",
    "    \n",
    "    def forward(self, x):\n",
    "        out = self.layer1(x)\n",
    "        out = self.layer2(out)\n",
    "        out = self.layer3(out)\n",
    "        out = self.layer4(out)\n",
    "        out = out.reshape(out.size(0), -1)\n",
    "        out = self.fc(out)\n",
    "        return out"
   ]
  },
  {
   "cell_type": "code",
   "execution_count": 12,
   "metadata": {},
   "outputs": [],
   "source": [
    "def predict(model, data_loader):\n",
    "    real=[]\n",
    "    for i, data in enumerate(data_loader):\n",
    "        output = model(data)\n",
    "        for i in range(output.shape[0]):\n",
    "            com = onehot(output[i])\n",
    "            real.append(com)   \n",
    "    return torch.Tensor(real)"
   ]
  },
  {
   "cell_type": "code",
   "execution_count": 13,
   "metadata": {},
   "outputs": [],
   "source": [
    "def onehot(vector):\n",
    "    digit=vector[0:10]\n",
    "    alphabet=vector[10:36]\n",
    "    max_1=torch.argmax(digit,0,keepdim=True)\n",
    "    max_2=torch.argmax(alphabet,0,keepdim=True)\n",
    "    one_hot1=torch.FloatTensor(digit.shape)\n",
    "    one_hot2=torch.FloatTensor(alphabet.shape)\n",
    "    one_hot1.zero_()\n",
    "    one_hot2.zero_()\n",
    "    one_hot1.scatter_(0, max_1, 1)\n",
    "    one_hot2.scatter_(0, max_2, 1)\n",
    "    return torch.cat((one_hot1,one_hot2),0).tolist()"
   ]
  },
  {
   "cell_type": "code",
   "execution_count": 107,
   "metadata": {},
   "outputs": [],
   "source": [
    "\n",
    "def train_model(model_class, validation_loader, y_validation, dropout=0.5, epochs=30, criterion=nn.CrossEntropyLoss(), learning_rate=1e-3):\n",
    "    input_dim = 56 * 56\n",
    "    output_dim = 36\n",
    "    model = model_class(input_dim, output_dim, dropout)\n",
    "    # encoder = keras.Model(input_img, encoded)\n",
    "    \n",
    "    optimizer = optim.Adam(model.parameters(), lr=learning_rate)\n",
    "    losses_per_epoch = []\n",
    "    validation_score_per_epoch = []\n",
    "    for epoch in range(epochs):\n",
    "        for i, data in enumerate(train_loader, 0):\n",
    "            inputs, labels = data\n",
    "#             labels = labels.to(dtype=torch.long)\n",
    "            optimizer.zero_grad()\n",
    "\n",
    "            # inputs = encoder.predict(inputs)\n",
    "            # print(type(inputs))\n",
    "            outputs = model(inputs) #### 1:00\n",
    "#             real=[]\n",
    "#             for i in range(outputs.shape[0]):\n",
    "#                 com = onehot(outputs[i])\n",
    "#                 real.append(com.tolist())  \n",
    "            loss = criterion(outputs, labels)#torch.max(labels, 1)[1])\n",
    "            loss.backward()\n",
    "            optimizer.step()\n",
    "        \n",
    "        model.eval()\n",
    "       \n",
    "        validation_predictions = predict(model, validation_loader).numpy()\n",
    "#         y_val = np.argmax(y_validation, axis = 1)\n",
    "       \n",
    "        validation_score_per_epoch.append(accuracy_score(y_validation.tolist(), validation_predictions.tolist()))\n",
    "        model.train()\n",
    "        \n",
    "        losses_per_epoch.append(loss)\n",
    "    print('[Finished Training] Score: %.4f Loss: %.4f' % (validation_score_per_epoch[-1], losses_per_epoch[-1]))\n",
    "    return model, losses_per_epoch, validation_score_per_epoch"
   ]
  },
  {
   "cell_type": "code",
   "execution_count": 108,
   "metadata": {},
   "outputs": [
    {
     "ename": "KeyboardInterrupt",
     "evalue": "",
     "output_type": "error",
     "traceback": [
      "\u001b[0;31m---------------------------------------------------------------------------\u001b[0m",
      "\u001b[0;31mKeyboardInterrupt\u001b[0m                         Traceback (most recent call last)",
      "\u001b[0;32m<ipython-input-108-7e0f90403f19>\u001b[0m in \u001b[0;36m<module>\u001b[0;34m\u001b[0m\n\u001b[1;32m      1\u001b[0m \u001b[0;31m#test\u001b[0m\u001b[0;34m\u001b[0m\u001b[0;34m\u001b[0m\u001b[0;34m\u001b[0m\u001b[0m\n\u001b[0;32m----> 2\u001b[0;31m \u001b[0mmodel\u001b[0m\u001b[0;34m,\u001b[0m \u001b[0mloss\u001b[0m\u001b[0;34m,\u001b[0m \u001b[0mscore\u001b[0m \u001b[0;34m=\u001b[0m \u001b[0mtrain_model\u001b[0m\u001b[0;34m(\u001b[0m\u001b[0mConvNet_4Layers\u001b[0m\u001b[0;34m,\u001b[0m \u001b[0mvalidation_loader\u001b[0m\u001b[0;34m,\u001b[0m \u001b[0my_validation\u001b[0m\u001b[0;34m,\u001b[0m \u001b[0mdropout\u001b[0m\u001b[0;34m=\u001b[0m\u001b[0;36m0.1\u001b[0m\u001b[0;34m,\u001b[0m \u001b[0mepochs\u001b[0m\u001b[0;34m=\u001b[0m\u001b[0;36m10\u001b[0m\u001b[0;34m)\u001b[0m\u001b[0;34m\u001b[0m\u001b[0;34m\u001b[0m\u001b[0m\n\u001b[0m",
      "\u001b[0;32m<ipython-input-107-40370a4507ba>\u001b[0m in \u001b[0;36mtrain_model\u001b[0;34m(model_class, validation_loader, y_validation, dropout, epochs, criterion, learning_rate)\u001b[0m\n\u001b[1;32m     22\u001b[0m \u001b[0;31m#                 real.append(com.tolist())\u001b[0m\u001b[0;34m\u001b[0m\u001b[0;34m\u001b[0m\u001b[0;34m\u001b[0m\u001b[0m\n\u001b[1;32m     23\u001b[0m             \u001b[0mloss\u001b[0m \u001b[0;34m=\u001b[0m \u001b[0mcriterion\u001b[0m\u001b[0;34m(\u001b[0m\u001b[0moutputs\u001b[0m\u001b[0;34m,\u001b[0m \u001b[0mlabels\u001b[0m\u001b[0;34m)\u001b[0m\u001b[0;31m#torch.max(labels, 1)[1])\u001b[0m\u001b[0;34m\u001b[0m\u001b[0;34m\u001b[0m\u001b[0m\n\u001b[0;32m---> 24\u001b[0;31m             \u001b[0mloss\u001b[0m\u001b[0;34m.\u001b[0m\u001b[0mbackward\u001b[0m\u001b[0;34m(\u001b[0m\u001b[0;34m)\u001b[0m\u001b[0;34m\u001b[0m\u001b[0;34m\u001b[0m\u001b[0m\n\u001b[0m\u001b[1;32m     25\u001b[0m             \u001b[0moptimizer\u001b[0m\u001b[0;34m.\u001b[0m\u001b[0mstep\u001b[0m\u001b[0;34m(\u001b[0m\u001b[0;34m)\u001b[0m\u001b[0;34m\u001b[0m\u001b[0;34m\u001b[0m\u001b[0m\n\u001b[1;32m     26\u001b[0m \u001b[0;34m\u001b[0m\u001b[0m\n",
      "\u001b[0;32m~/opt/anaconda3/lib/python3.8/site-packages/torch/_tensor.py\u001b[0m in \u001b[0;36mbackward\u001b[0;34m(self, gradient, retain_graph, create_graph, inputs)\u001b[0m\n\u001b[1;32m    305\u001b[0m                 \u001b[0mcreate_graph\u001b[0m\u001b[0;34m=\u001b[0m\u001b[0mcreate_graph\u001b[0m\u001b[0;34m,\u001b[0m\u001b[0;34m\u001b[0m\u001b[0;34m\u001b[0m\u001b[0m\n\u001b[1;32m    306\u001b[0m                 inputs=inputs)\n\u001b[0;32m--> 307\u001b[0;31m         \u001b[0mtorch\u001b[0m\u001b[0;34m.\u001b[0m\u001b[0mautograd\u001b[0m\u001b[0;34m.\u001b[0m\u001b[0mbackward\u001b[0m\u001b[0;34m(\u001b[0m\u001b[0mself\u001b[0m\u001b[0;34m,\u001b[0m \u001b[0mgradient\u001b[0m\u001b[0;34m,\u001b[0m \u001b[0mretain_graph\u001b[0m\u001b[0;34m,\u001b[0m \u001b[0mcreate_graph\u001b[0m\u001b[0;34m,\u001b[0m \u001b[0minputs\u001b[0m\u001b[0;34m=\u001b[0m\u001b[0minputs\u001b[0m\u001b[0;34m)\u001b[0m\u001b[0;34m\u001b[0m\u001b[0;34m\u001b[0m\u001b[0m\n\u001b[0m\u001b[1;32m    308\u001b[0m \u001b[0;34m\u001b[0m\u001b[0m\n\u001b[1;32m    309\u001b[0m     \u001b[0;32mdef\u001b[0m \u001b[0mregister_hook\u001b[0m\u001b[0;34m(\u001b[0m\u001b[0mself\u001b[0m\u001b[0;34m,\u001b[0m \u001b[0mhook\u001b[0m\u001b[0;34m)\u001b[0m\u001b[0;34m:\u001b[0m\u001b[0;34m\u001b[0m\u001b[0;34m\u001b[0m\u001b[0m\n",
      "\u001b[0;32m~/opt/anaconda3/lib/python3.8/site-packages/torch/autograd/__init__.py\u001b[0m in \u001b[0;36mbackward\u001b[0;34m(tensors, grad_tensors, retain_graph, create_graph, grad_variables, inputs)\u001b[0m\n\u001b[1;32m    152\u001b[0m         \u001b[0mretain_graph\u001b[0m \u001b[0;34m=\u001b[0m \u001b[0mcreate_graph\u001b[0m\u001b[0;34m\u001b[0m\u001b[0;34m\u001b[0m\u001b[0m\n\u001b[1;32m    153\u001b[0m \u001b[0;34m\u001b[0m\u001b[0m\n\u001b[0;32m--> 154\u001b[0;31m     Variable._execution_engine.run_backward(\n\u001b[0m\u001b[1;32m    155\u001b[0m         \u001b[0mtensors\u001b[0m\u001b[0;34m,\u001b[0m \u001b[0mgrad_tensors_\u001b[0m\u001b[0;34m,\u001b[0m \u001b[0mretain_graph\u001b[0m\u001b[0;34m,\u001b[0m \u001b[0mcreate_graph\u001b[0m\u001b[0;34m,\u001b[0m \u001b[0minputs\u001b[0m\u001b[0;34m,\u001b[0m\u001b[0;34m\u001b[0m\u001b[0;34m\u001b[0m\u001b[0m\n\u001b[1;32m    156\u001b[0m         allow_unreachable=True, accumulate_grad=True)  # allow_unreachable flag\n",
      "\u001b[0;31mKeyboardInterrupt\u001b[0m: "
     ]
    }
   ],
   "source": [
    "#test\n",
    "model, loss, score = train_model(ConvNet_4Layers, validation_loader, y_validation, dropout=0.1, epochs=10)"
   ]
  },
  {
   "cell_type": "code",
   "execution_count": null,
   "metadata": {},
   "outputs": [],
   "source": []
  },
  {
   "cell_type": "code",
   "execution_count": null,
   "metadata": {},
   "outputs": [],
   "source": []
  }
 ],
 "metadata": {
  "interpreter": {
   "hash": "023d01f42caad5e5376167e0ef07c2212b9427e3bc8b86c29392b7df640c13a4"
  },
  "kernelspec": {
   "display_name": "Python 3.8.8 64-bit ('base': conda)",
   "language": "python",
   "name": "python3"
  },
  "language_info": {
   "codemirror_mode": {
    "name": "ipython",
    "version": 3
   },
   "file_extension": ".py",
   "mimetype": "text/x-python",
   "name": "python",
   "nbconvert_exporter": "python",
   "pygments_lexer": "ipython3",
   "version": "3.8.8"
  },
  "orig_nbformat": 4
 },
 "nbformat": 4,
 "nbformat_minor": 2
}
