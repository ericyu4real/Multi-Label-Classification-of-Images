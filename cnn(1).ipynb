{
 "cells": [
  {
   "cell_type": "code",
   "execution_count": 2,
   "metadata": {},
   "outputs": [],
   "source": [
    "# This Python 3 environment comes with many helpful analytics libraries installed\n",
    "# It is defined by the kaggle/python docker image: https://github.com/kaggle/docker-python\n",
    "# For example, here's several helpful packages to load in \n",
    "\n",
    "import numpy as np # linear algebra\n",
    "import pandas as pd # data processing, CSV file I/O (e.g. pd.read_csv)\n",
    "import matplotlib.pyplot as plt\n",
    "import pickle\n",
    "\n",
    "import torch\n",
    "import torch.nn as nn\n",
    "import torch.optim as optim\n",
    "from torchvision import transforms\n",
    "from torch.utils.data import Dataset\n",
    "from sklearn.metrics import accuracy_score\n",
    "from sklearn.preprocessing import OneHotEncoder\n",
    "# Any results you write to the current directory are saved as output."
   ]
  },
  {
   "cell_type": "markdown",
   "metadata": {},
   "source": [
    "# Loading and Preparing Dataset"
   ]
  },
  {
   "cell_type": "code",
   "execution_count": 3,
   "metadata": {},
   "outputs": [],
   "source": [
    "device = torch.device('cuda:0' if torch.cuda.is_available() else 'cpu')\n",
    "class MNIST_Dataset(Dataset):\n",
    "    \n",
    "    def __init__(self, X, y, transform = transforms.Compose(\n",
    "                     [transforms.ToPILImage(), \n",
    "                      transforms.ToTensor(), \n",
    "                      transforms.Normalize(mean=(0.5,), std=(0.5,))])):\n",
    "            \n",
    "        self.transform = transform\n",
    "        self.X = X.reshape((-1,56,56)).astype(np.uint8)[:,:,:,None]\n",
    "        self.y = y\n",
    "        \n",
    "    @classmethod\n",
    "    def from_train(cls, file_path_images, file_path_labels):\n",
    "        train_images = pd.read_pickle(file_path_images)\n",
    "        train_labels = pd.read_csv(file_path_labels)\n",
    "        \n",
    "        return cls(X=train_images, y=torch.from_numpy(train_labels['Category'].values))\n",
    "        \n",
    "    @classmethod\n",
    "    def from_test(cls, file_path_images):\n",
    "        test_images = pd.read_pickle(file_path_images)\n",
    "        \n",
    "        return cls(X=test_images, y=None)\n",
    "    \n",
    "    def __len__(self):\n",
    "        return len(self.X)\n",
    "\n",
    "    def __getitem__(self, idx):\n",
    "        X = self.transform(self.X[idx])\n",
    "        # X = X.to(device)\n",
    "        if self.y is not None:\n",
    "            return X, self.y[idx]   #.to(device)\n",
    "        else:\n",
    "            return X"
   ]
  },
  {
   "cell_type": "code",
   "execution_count": 4,
   "metadata": {},
   "outputs": [],
   "source": [
    "train_data = pd.read_pickle('images_l.pkl')\n",
    "train_labels = pd.read_pickle('labels_l.pkl')\n",
    "test_data = pd.read_pickle('images_test.pkl')\n",
    "unlabel = pd.read_pickle('images_ul.pkl')\n",
    "\n",
    "number_train_images = int(train_data.shape[0] * 0.9)\n",
    "\n",
    "X_train = train_data[:number_train_images]\n",
    "y_train = train_labels[:number_train_images]\n",
    "\n",
    "X_validation = train_data[number_train_images:]\n",
    "y_validation = train_labels[number_train_images:]"
   ]
  },
  {
   "cell_type": "code",
   "execution_count": 11,
   "metadata": {},
   "outputs": [],
   "source": [
    "batch_size = 32\n",
    "\n",
    "train_dataset = MNIST_Dataset(X_train, y_train)\n",
    "validation_dataset = MNIST_Dataset(X_validation, None)\n",
    "test_dataset = MNIST_Dataset.from_test('images_test.pkl')\n",
    "\n",
    "# Loading\n",
    "train_loader = torch.utils.data.DataLoader(dataset=train_dataset,\n",
    "                                           batch_size=batch_size, \n",
    "                                           shuffle=True)\n",
    "\n",
    "validation_loader = torch.utils.data.DataLoader(dataset=validation_dataset,\n",
    "                                           batch_size=batch_size, \n",
    "                                           shuffle=False)\n",
    "\n",
    "test_loader = torch.utils.data.DataLoader(dataset=test_dataset,\n",
    "                                           batch_size=batch_size, \n",
    "                                           shuffle=False)"
   ]
  },
  {
   "cell_type": "markdown",
   "metadata": {},
   "source": [
    "# Neural Network Architecture, and Optimizer, and Loss Functions"
   ]
  },
  {
   "cell_type": "code",
   "execution_count": 48,
   "metadata": {},
   "outputs": [
    {
     "name": "stdout",
     "output_type": "stream",
     "text": [
      "----------------------------------------------------------------\n",
      "        Layer (type)               Output Shape         Param #\n",
      "================================================================\n",
      "            Conv2d-1           [-1, 28, 55, 55]             140\n",
      "              ReLU-2           [-1, 28, 55, 55]               0\n",
      "            Conv2d-3           [-1, 28, 54, 54]           3,164\n",
      "       BatchNorm2d-4           [-1, 28, 54, 54]              56\n",
      "              ReLU-5           [-1, 28, 54, 54]               0\n",
      "         MaxPool2d-6           [-1, 28, 27, 27]               0\n",
      "           Dropout-7           [-1, 28, 27, 27]               0\n",
      "            Conv2d-8           [-1, 56, 26, 26]           6,328\n",
      "              ReLU-9           [-1, 56, 26, 26]               0\n",
      "           Conv2d-10           [-1, 56, 25, 25]          12,600\n",
      "      BatchNorm2d-11           [-1, 56, 25, 25]             112\n",
      "             ReLU-12           [-1, 56, 25, 25]               0\n",
      "           Conv2d-13           [-1, 56, 24, 24]          12,600\n",
      "             ReLU-14           [-1, 56, 24, 24]               0\n",
      "        MaxPool2d-15           [-1, 56, 23, 23]               0\n",
      "           Conv2d-16           [-1, 56, 21, 21]          28,280\n",
      "             ReLU-17           [-1, 56, 21, 21]               0\n",
      "      BatchNorm2d-18           [-1, 56, 21, 21]             112\n",
      "           Conv2d-19           [-1, 56, 20, 20]          12,600\n",
      "             ReLU-20           [-1, 56, 20, 20]               0\n",
      "        MaxPool2d-21           [-1, 56, 10, 10]               0\n",
      "          Dropout-22           [-1, 56, 10, 10]               0\n",
      "           Conv2d-23            [-1, 112, 9, 9]          25,200\n",
      "             ReLU-24            [-1, 112, 9, 9]               0\n",
      "           Conv2d-25            [-1, 112, 8, 8]          50,288\n",
      "      BatchNorm2d-26            [-1, 112, 8, 8]             224\n",
      "             ReLU-27            [-1, 112, 8, 8]               0\n",
      "        MaxPool2d-28            [-1, 112, 4, 4]               0\n",
      "          Dropout-29            [-1, 112, 4, 4]               0\n",
      "           Conv2d-30            [-1, 224, 3, 3]         100,576\n",
      "             ReLU-31            [-1, 224, 3, 3]               0\n",
      "           Conv2d-32            [-1, 224, 2, 2]         200,928\n",
      "      BatchNorm2d-33            [-1, 224, 2, 2]             448\n",
      "             ReLU-34            [-1, 224, 2, 2]               0\n",
      "        MaxPool2d-35            [-1, 224, 1, 1]               0\n",
      "          Dropout-36            [-1, 224, 1, 1]               0\n",
      "           Linear-37                   [-1, 36]           8,100\n",
      "================================================================\n",
      "Total params: 461,756\n",
      "Trainable params: 461,756\n",
      "Non-trainable params: 0\n",
      "----------------------------------------------------------------\n",
      "Input size (MB): 0.01\n",
      "Forward/backward pass size (MB): 6.95\n",
      "Params size (MB): 1.76\n",
      "Estimated Total Size (MB): 8.72\n",
      "----------------------------------------------------------------\n"
     ]
    }
   ],
   "source": [
    "class ConvNet_4Layers(nn.Module):\n",
    "    def __init__(self, input_dim, output_dim, dropout):\n",
    "        super(ConvNet_4Layers, self).__init__()\n",
    "        self.layer1 = nn.Sequential(\n",
    "            nn.Conv2d(in_channels=1, out_channels=28, kernel_size=2, stride=1),\n",
    "            nn.ReLU(),\n",
    "            nn.Conv2d(28, 28, 2),\n",
    "            nn.BatchNorm2d(28),\n",
    "            nn.ReLU(),\n",
    "            nn.MaxPool2d(2),\n",
    "            nn.Dropout(dropout))\n",
    "        self.layer2 = nn.Sequential(\n",
    "            nn.Conv2d(28, 56, 2),\n",
    "            nn.ReLU(),\n",
    "            nn.Conv2d(56, 56, 2),\n",
    "            nn.BatchNorm2d(56),\n",
    "            nn.ReLU(),\n",
    "            nn.Conv2d(56, 56, 2),\n",
    "            nn.ReLU(),\n",
    "            nn.MaxPool2d(2,stride=1),\n",
    "            nn.Conv2d(56, 56, 3),\n",
    "            nn.ReLU(),\n",
    "            nn.BatchNorm2d(56),\n",
    "            nn.Conv2d(56, 56, 2),\n",
    "            nn.ReLU(),\n",
    "            nn.MaxPool2d(2,stride=2),\n",
    "            nn.Dropout(dropout))\n",
    "        self.layer3 = nn.Sequential(\n",
    "            nn.Conv2d(56, 112, 2),\n",
    "            nn.ReLU(),\n",
    "            nn.Conv2d(112, 112, 2),\n",
    "            nn.BatchNorm2d(112),\n",
    "            nn.ReLU(),\n",
    "            nn.MaxPool2d(2, stride=2),\n",
    "            nn.Dropout(dropout))\n",
    "        self.layer4 = nn.Sequential(\n",
    "            nn.Conv2d(112, 224, 2),\n",
    "            nn.ReLU(),\n",
    "            nn.Conv2d(224, 224, 2),\n",
    "            nn.BatchNorm2d(224),\n",
    "            nn.ReLU(),\n",
    "            nn.MaxPool2d(2, stride=2),\n",
    "            nn.Dropout(dropout))\n",
    "        self.fc = nn.Linear(224, output_dim)\n",
    "    \n",
    "    def forward(self, x):\n",
    "        out = self.layer1(x)\n",
    "        out = self.layer2(out)\n",
    "        out = self.layer3(out)\n",
    "        out = self.layer4(out)\n",
    "        # out = self.layer5(out)\n",
    "        out = out.reshape(out.size(0), -1)\n",
    "        out = self.fc(out)\n",
    "        return out\n",
    "\n",
    "from torchsummary import summary\n",
    "summary(ConvNet_4Layers(56*56, 36, 0.1), input_size=(1, 56, 56))"
   ]
  },
  {
   "cell_type": "code",
   "execution_count": 28,
   "metadata": {},
   "outputs": [],
   "source": [
    "def predict(model, data_loader):\n",
    "    real=[]\n",
    "    for i, data in enumerate(data_loader):\n",
    "        output = model(data)\n",
    "        for i in range(output.shape[0]):\n",
    "            com = onehot(output[i])\n",
    "            real.append(com)   \n",
    "    return torch.Tensor(real)"
   ]
  },
  {
   "cell_type": "code",
   "execution_count": 29,
   "metadata": {},
   "outputs": [],
   "source": [
    "def onehot(vector):\n",
    "    digit=vector[0:10]\n",
    "    alphabet=vector[10:36]\n",
    "    max_1=torch.argmax(digit,0,keepdim=True)\n",
    "    max_2=torch.argmax(alphabet,0,keepdim=True)\n",
    "    one_hot1=torch.FloatTensor(digit.shape)\n",
    "    one_hot2=torch.FloatTensor(alphabet.shape)\n",
    "    one_hot1.zero_()\n",
    "    one_hot2.zero_()\n",
    "    one_hot1.scatter_(0, max_1, 1)\n",
    "    one_hot2.scatter_(0, max_2, 1)\n",
    "    return torch.cat((one_hot1,one_hot2),0).tolist()"
   ]
  },
  {
   "cell_type": "markdown",
   "metadata": {},
   "source": [
    "## Training Loop"
   ]
  },
  {
   "cell_type": "code",
   "execution_count": 41,
   "metadata": {},
   "outputs": [],
   "source": [
    "def train_model(model_class, validation_loader, y_validation, dropout=0.5, epochs=30, criterion=nn.CrossEntropyLoss(), learning_rate=1e-3):\n",
    "    input_dim = 56 * 56\n",
    "    output_dim = 36\n",
    "    model = model_class(input_dim, output_dim, dropout)\n",
    "    \n",
    "    optimizer = optim.Adam(model.parameters(), lr=learning_rate)\n",
    "    losses_per_epoch = []\n",
    "    validation_score_per_epoch = []\n",
    "    for epoch in range(epochs):\n",
    "        print(epoch)\n",
    "        for i, data in enumerate(train_loader, 0):\n",
    "            inputs, labels = data\n",
    "            optimizer.zero_grad()\n",
    "\n",
    "            outputs = model(inputs) \n",
    "            loss = criterion(outputs, labels)\n",
    "            loss.backward()\n",
    "            optimizer.step()\n",
    "        \n",
    "        model.eval()\n",
    "       \n",
    "        validation_predictions = predict(model, validation_loader).numpy()\n",
    "       \n",
    "        validation_score_per_epoch.append(accuracy_score(y_validation.tolist(), validation_predictions.tolist()))\n",
    "        model.train()\n",
    "        \n",
    "        losses_per_epoch.append(loss.item())\n",
    "    print('[Finished Training] Score: %.4f Loss: %.4f' % (validation_score_per_epoch[-1], losses_per_epoch[-1]))\n",
    "    return model, losses_per_epoch, validation_score_per_epoch"
   ]
  },
  {
   "cell_type": "code",
   "execution_count": 42,
   "metadata": {},
   "outputs": [
    {
     "name": "stdout",
     "output_type": "stream",
     "text": [
      "0\n",
      "1\n",
      "2\n",
      "3\n",
      "4\n",
      "5\n",
      "6\n",
      "7\n",
      "8\n",
      "9\n",
      "[Finished Training] Score: 0.7483 Loss: 2.1303\n"
     ]
    }
   ],
   "source": [
    "#test\n",
    "model, loss, score = train_model(ConvNet_4Layers, validation_loader, y_validation, dropout=0.1, epochs=10)"
   ]
  },
  {
   "cell_type": "markdown",
   "metadata": {},
   "source": [
    "## Prediction on Test Set "
   ]
  },
  {
   "cell_type": "code",
   "execution_count": null,
   "metadata": {
    "scrolled": true
   },
   "outputs": [],
   "source": [
    "test_predictions = predict(model, test_loader)\n",
    "# print(test_predictions[0])\n",
    "test_predictions = test_predictions.detach().numpy()"
   ]
  },
  {
   "cell_type": "code",
   "execution_count": null,
   "metadata": {},
   "outputs": [],
   "source": [
    "new_list=[]\n",
    "for element in test_predictions:\n",
    "    sub_new_list=''\n",
    "    for sub_element in element:\n",
    "        sub_new_list+=str(int(sub_element))\n",
    "    new_list.append(sub_new_list)\n",
    "    \n",
    "d = {'# Id' : [x for x in range(0, len(test_predictions))], 'Category' : new_list}\n",
    "# print(len(d['Category']))\n",
    "submission = pd.DataFrame(d)\n",
    "submission.to_csv(path_or_buf='submission1.csv', index=False)"
   ]
  }
 ],
 "metadata": {
  "interpreter": {
   "hash": "aee8b7b246df8f9039afb4144a1f6fd8d2ca17a180786b69acc140d282b71a49"
  },
  "kernelspec": {
   "display_name": "Python 3",
   "language": "python",
   "name": "python3"
  },
  "language_info": {
   "codemirror_mode": {
    "name": "ipython",
    "version": 3
   },
   "file_extension": ".py",
   "mimetype": "text/x-python",
   "name": "python",
   "nbconvert_exporter": "python",
   "pygments_lexer": "ipython3",
   "version": "3.8.8"
  }
 },
 "nbformat": 4,
 "nbformat_minor": 2
}
