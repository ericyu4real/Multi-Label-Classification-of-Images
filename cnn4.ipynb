{
 "cells": [
  {
   "cell_type": "code",
   "execution_count": 1,
   "metadata": {},
   "outputs": [],
   "source": [
    "# This Python 3 environment comes with many helpful analytics libraries installed\n",
    "# It is defined by the kaggle/python docker image: https://github.com/kaggle/docker-python\n",
    "# For example, here's several helpful packages to load in \n",
    "\n",
    "import numpy as np # linear algebra\n",
    "import pandas as pd # data processing, CSV file I/O (e.g. pd.read_csv)\n",
    "import matplotlib.pyplot as plt\n",
    "import pickle\n",
    "\n",
    "import torch\n",
    "import torch.nn as nn\n",
    "import torch.optim as optim\n",
    "from torchvision import transforms\n",
    "from torch.utils.data import Dataset\n",
    "from sklearn.metrics import accuracy_score\n",
    "from sklearn.preprocessing import OneHotEncoder\n",
    "# Any results you write to the current directory are saved as output."
   ]
  },
  {
   "cell_type": "markdown",
   "metadata": {},
   "source": [
    "# Loading and Preparing Dataset"
   ]
  },
  {
   "cell_type": "code",
   "execution_count": 2,
   "metadata": {},
   "outputs": [],
   "source": [
    "device = torch.device('cuda:0' if torch.cuda.is_available() else 'cpu')\n",
    "class MNIST_Dataset(Dataset):\n",
    "    \n",
    "    def __init__(self, X, y, transform = transforms.Compose(\n",
    "                     [transforms.ToPILImage(), \n",
    "                      transforms.ToTensor(), \n",
    "                      transforms.Normalize(mean=(0.5,), std=(0.5,))])):\n",
    "            \n",
    "        self.transform = transform\n",
    "        self.X = X.reshape((-1,56,56)).astype(np.uint8)[:,:,:,None]\n",
    "        self.y = y\n",
    "        \n",
    "    @classmethod\n",
    "    def from_train(cls, file_path_images, file_path_labels):\n",
    "        train_images = pd.read_pickle(file_path_images)\n",
    "        train_labels = pd.read_csv(file_path_labels)\n",
    "        \n",
    "        return cls(X=train_images, y=torch.from_numpy(train_labels['Category'].values))\n",
    "        \n",
    "    @classmethod\n",
    "    def from_test(cls, file_path_images):\n",
    "        test_images = pd.read_pickle(file_path_images)\n",
    "        \n",
    "        return cls(X=test_images, y=None)\n",
    "    \n",
    "    def __len__(self):\n",
    "        return len(self.X)\n",
    "\n",
    "    def __getitem__(self, idx):\n",
    "        X = self.transform(self.X[idx])\n",
    "        # X = X.to(device)\n",
    "        if self.y is not None:\n",
    "            return X, self.y[idx]   #.to(device)\n",
    "        else:\n",
    "            return X"
   ]
  },
  {
   "cell_type": "code",
   "execution_count": 3,
   "metadata": {},
   "outputs": [
    {
     "name": "stdout",
     "output_type": "stream",
     "text": [
      "(27000, 56, 56)\n",
      "(27000, 36)\n",
      "(3000, 56, 56)\n",
      "(3000, 36)\n",
      "(15000, 56, 56)\n"
     ]
    }
   ],
   "source": [
    "train_data = pd.read_pickle('images_l.pkl')\n",
    "train_labels = pd.read_pickle('labels_l.pkl')\n",
    "test_data = pd.read_pickle('images_test.pkl')\n",
    "\n",
    "number_train_images = int(train_data.shape[0] * 0.9)\n",
    "\n",
    "X_train = train_data[:number_train_images]\n",
    "y_train = train_labels[:number_train_images]\n",
    "print(X_train.shape)\n",
    "print(y_train.shape)\n",
    "\n",
    "X_validation = train_data[number_train_images:]\n",
    "y_validation = train_labels[number_train_images:]\n",
    "\n",
    "print(X_validation.shape)\n",
    "print(y_validation.shape)\n",
    "print(test_data.shape)"
   ]
  },
  {
   "cell_type": "code",
   "execution_count": 4,
   "metadata": {},
   "outputs": [],
   "source": [
    "batch_size = 32\n",
    "\n",
    "train_dataset = MNIST_Dataset(X_train, y_train)\n",
    "validation_dataset = MNIST_Dataset(X_validation, None)\n",
    "test_dataset = MNIST_Dataset.from_test('images_test.pkl')\n",
    "    \n",
    "# Loading\n",
    "train_loader = torch.utils.data.DataLoader(dataset=train_dataset,\n",
    "                                           batch_size=batch_size, \n",
    "                                           shuffle=True)\n",
    "\n",
    "validation_loader = torch.utils.data.DataLoader(dataset=validation_dataset,\n",
    "                                           batch_size=batch_size, \n",
    "                                           shuffle=False)\n",
    "\n",
    "test_loader = torch.utils.data.DataLoader(dataset=test_dataset,\n",
    "                                           batch_size=batch_size, \n",
    "                                           shuffle=False)"
   ]
  },
  {
   "cell_type": "markdown",
   "metadata": {},
   "source": [
    "# Neural Network Architecture, and Optimizer, and Loss Functions"
   ]
  },
  {
   "cell_type": "code",
   "execution_count": 5,
   "metadata": {},
   "outputs": [],
   "source": [
    "class ConvNet_4Layers(nn.Module):\n",
    "    def __init__(self, input_dim, output_dim, dropout):\n",
    "        super(ConvNet_4Layers, self).__init__()\n",
    "        self.layer1 = nn.Sequential(\n",
    "            nn.Conv2d(1, 28, 2),\n",
    "            nn.ReLU(),\n",
    "            nn.Conv2d(28, 28, 2),\n",
    "            nn.BatchNorm2d(28),\n",
    "            nn.ReLU(),\n",
    "            nn.MaxPool2d(2),\n",
    "            nn.Dropout(dropout))\n",
    "        self.layer2 = nn.Sequential(\n",
    "            nn.Conv2d(28, 56, 2),\n",
    "            nn.ReLU(),\n",
    "            nn.Conv2d(56, 56, 3),\n",
    "            nn.BatchNorm2d(56),\n",
    "            nn.ReLU(),\n",
    "            nn.MaxPool2d(2),\n",
    "            nn.Dropout(dropout))\n",
    "        self.layer3 = nn.Sequential(\n",
    "            nn.Conv2d(56, 112, 3),\n",
    "            nn.ReLU(),\n",
    "            nn.Conv2d(112, 112, 3),\n",
    "            nn.BatchNorm2d(112),\n",
    "            nn.ReLU(),\n",
    "            nn.MaxPool2d(2, stride=2),\n",
    "            nn.Dropout(dropout))\n",
    "        self.layer4 = nn.Sequential(\n",
    "            nn.Conv2d(112, 224, 2),\n",
    "            nn.ReLU(),\n",
    "            nn.Conv2d(224, 224, 2),\n",
    "            nn.BatchNorm2d(224),\n",
    "            nn.ReLU(),\n",
    "            nn.MaxPool2d(2, stride=2),\n",
    "            nn.Dropout(dropout))\n",
    "        self.fc = nn.Linear(224, output_dim)\n",
    "    \n",
    "    def forward(self, x):\n",
    "        out = self.layer1(x)\n",
    "        out = self.layer2(out)\n",
    "        out = self.layer3(out)\n",
    "        out = self.layer4(out)\n",
    "        out = out.reshape(out.size(0), -1)\n",
    "        out = self.fc(out)\n",
    "        return out"
   ]
  },
  {
   "cell_type": "code",
   "execution_count": 6,
   "metadata": {},
   "outputs": [],
   "source": [
    "def predict(model, data_loader):\n",
    "#     test_pred = torch.LongTensor()\n",
    "    real=[]\n",
    "    for i, data in enumerate(data_loader):\n",
    "        output = model(data)\n",
    "#         pred = output.cpu().data.max(1, keepdim=True)[1]\n",
    "#         test_pred = torch.cat((test_pred, pred), dim=0)\n",
    "#         output = output.detach().numpy()\n",
    "#         soft=softMax(output)\n",
    "        for i in range(output.shape[0]):\n",
    "            com = onehot(output[i])\n",
    "            real.append(com)   \n",
    "    return torch.Tensor(real) #test_pred "
   ]
  },
  {
   "cell_type": "code",
   "execution_count": 7,
   "metadata": {},
   "outputs": [],
   "source": [
    "def softMax(vector):\n",
    "    e = np.exp(vector)\n",
    "    return e / e.sum()"
   ]
  },
  {
   "cell_type": "code",
   "execution_count": 8,
   "metadata": {},
   "outputs": [],
   "source": [
    "def onehot(vector):\n",
    "    digit=vector[0:10]\n",
    "    alphabet=vector[10:36]\n",
    "    max_1=torch.argmax(digit,0,keepdim=True)\n",
    "    max_2=torch.argmax(alphabet,0,keepdim=True)\n",
    "    one_hot1=torch.FloatTensor(digit.shape)\n",
    "    one_hot2=torch.FloatTensor(alphabet.shape)\n",
    "    one_hot1.zero_()\n",
    "    one_hot2.zero_()\n",
    "    one_hot1.scatter_(0, max_1, 1)\n",
    "    one_hot2.scatter_(0, max_2, 1)\n",
    "    return torch.cat((one_hot1,one_hot2),0).tolist()"
   ]
  },
  {
   "cell_type": "markdown",
   "metadata": {},
   "source": [
    "## Training Loop"
   ]
  },
  {
   "cell_type": "code",
   "execution_count": 9,
   "metadata": {},
   "outputs": [],
   "source": [
    "\n",
    "def train_model(model_class, validation_loader, y_validation, dropout=0.5, epochs=30, criterion=nn.CrossEntropyLoss(), learning_rate=1e-3):\n",
    "    input_dim = 56 * 56\n",
    "    output_dim = 36\n",
    "    model = model_class(input_dim, output_dim, dropout)\n",
    "    \n",
    "    optimizer = optim.Adam(model.parameters(), lr=learning_rate)\n",
    "    losses_per_epoch = []\n",
    "    validation_score_per_epoch = []\n",
    "    for epoch in range(epochs):\n",
    "    \n",
    "        for i, data in enumerate(train_loader, 0):\n",
    "            inputs, labels = data\n",
    "#             labels = labels.to(dtype=torch.long)\n",
    "            optimizer.zero_grad()\n",
    "\n",
    "            outputs = model(inputs) #### 1:00\n",
    "#             real=[]\n",
    "#             for i in range(outputs.shape[0]):\n",
    "#                 com = onehot(outputs[i])\n",
    "#                 real.append(com.tolist())  \n",
    "            loss = criterion(outputs, labels)#torch.max(labels, 1)[1])\n",
    "            loss.backward()\n",
    "            optimizer.step()\n",
    "        \n",
    "        model.eval()\n",
    "       \n",
    "        validation_predictions = predict(model, validation_loader).numpy()\n",
    "#         y_val = np.argmax(y_validation, axis = 1)\n",
    "       \n",
    "        validation_score_per_epoch.append(accuracy_score(y_validation.tolist(), validation_predictions.tolist()))\n",
    "        model.train()\n",
    "        \n",
    "        losses_per_epoch.append(loss)\n",
    "    print('[Finished Training] Score: %.4f Loss: %.4f' % (validation_score_per_epoch[-1], losses_per_epoch[-1]))\n",
    "    return model, losses_per_epoch, validation_score_per_epoch"
   ]
  },
  {
   "cell_type": "code",
   "execution_count": 10,
   "metadata": {},
   "outputs": [],
   "source": [
    "summary_4_layers = {'model' : [], 'loss' : [], 'score' : []}\n",
    "dropouts = [0.1, 0.25, 0.5]\n",
    "# for dp in dropouts:\n",
    "model, loss, score = train_model(ConvNet_4Layers, validation_loader, y_validation, dropout=0.1, epochs=20)\n",
    "summary_4_layers['model'].append(model)\n",
    "summary_4_layers['loss'].append(loss)\n",
    "summary_4_layers['score'].append(score)"
   ]
  },
  {
   "cell_type": "markdown",
   "metadata": {},
   "source": [
    "## Loss and Validation Metrics for CNNs with 4 Layers"
   ]
  },
  {
   "cell_type": "code",
   "execution_count": null,
   "metadata": {},
   "outputs": [],
   "source": [
    "names = ['0.10D 4L', '0.25D 4L', '0.50D 4L']\n",
    "plt.figure(figsize=(15,5))\n",
    "for i in range(3):\n",
    "    plt.plot(summary_4_layers['loss'][i])\n",
    "plt.title('CNN Model Loss at Different Dropouts')\n",
    "plt.ylabel('Loss')\n",
    "plt.xlabel('Epoch')\n",
    "plt.legend(names, loc='upper left')\n",
    "axes = plt.gca()\n",
    "plt.show()"
   ]
  },
  {
   "cell_type": "code",
   "execution_count": null,
   "metadata": {},
   "outputs": [],
   "source": [
    "names = ['0.10D 4L', '0.25D 4L', '0.50D 4L']\n",
    "plt.figure(figsize=(15,5))\n",
    "for i in range(3):\n",
    "    plt.plot(summary_4_layers['score'][i])\n",
    "plt.title('CNN Model Accuracy at Different Dropouts')\n",
    "plt.ylabel('Accuracy')\n",
    "plt.xlabel('Model')\n",
    "plt.legend(names, loc='upper left')\n",
    "axes = plt.gca()\n",
    "axes.set_ylim([0.85,1])\n",
    "plt.show()"
   ]
  },
  {
   "cell_type": "markdown",
   "metadata": {},
   "source": [
    "## Best Model Training"
   ]
  },
  {
   "cell_type": "code",
   "execution_count": null,
   "metadata": {},
   "outputs": [],
   "source": []
  },
  {
   "cell_type": "markdown",
   "metadata": {},
   "source": [
    "## Prediction on Test Set"
   ]
  },
  {
   "cell_type": "code",
   "execution_count": 296,
   "metadata": {
    "scrolled": true
   },
   "outputs": [
    {
     "name": "stdout",
     "output_type": "stream",
     "text": [
      "tensor([1., 0., 0., 0., 0., 0., 0., 0., 0., 0., 0., 0., 0., 0., 0., 0., 0., 0.,\n",
      "        0., 0., 0., 0., 0., 0., 0., 0., 0., 0., 0., 1., 0., 0., 0., 0., 0., 0.])\n"
     ]
    }
   ],
   "source": [
    "test_predictions = predict(model, test_loader)\n",
    "print(test_predictions[0])\n",
    "test_predictions = test_predictions.detach().numpy()"
   ]
  },
  {
   "cell_type": "code",
   "execution_count": 297,
   "metadata": {},
   "outputs": [
    {
     "name": "stdout",
     "output_type": "stream",
     "text": [
      "15000\n"
     ]
    }
   ],
   "source": [
    "new_list=[]\n",
    "for element in test_predictions:\n",
    "    sub_new_list=''\n",
    "    for sub_element in element:\n",
    "        sub_new_list+=str(int(sub_element))\n",
    "    new_list.append(sub_new_list)\n",
    "    \n",
    "d = {'# Id' : [x for x in range(0, len(test_predictions))], 'Category' : new_list}\n",
    "print(len(d['Category']))\n",
    "submission = pd.DataFrame(d)\n",
    "submission.to_csv(path_or_buf='submission1.csv', index=False)"
   ]
  },
  {
   "cell_type": "code",
   "execution_count": null,
   "metadata": {},
   "outputs": [],
   "source": []
  }
 ],
 "metadata": {
  "interpreter": {
   "hash": "aee8b7b246df8f9039afb4144a1f6fd8d2ca17a180786b69acc140d282b71a49"
  },
  "kernelspec": {
   "display_name": "Python 3",
   "language": "python",
   "name": "python3"
  },
  "language_info": {
   "codemirror_mode": {
    "name": "ipython",
    "version": 3
   },
   "file_extension": ".py",
   "mimetype": "text/x-python",
   "name": "python",
   "nbconvert_exporter": "python",
   "pygments_lexer": "ipython3",
   "version": "3.8.0"
  }
 },
 "nbformat": 4,
 "nbformat_minor": 2
}
